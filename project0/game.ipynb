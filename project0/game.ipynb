{
 "cells": [
  {
   "cell_type": "markdown",
   "metadata": {},
   "source": [
    "# Игра угадай число"
   ]
  },
  {
   "cell_type": "code",
   "execution_count": null,
   "metadata": {},
   "outputs": [
    {
     "ename": "",
     "evalue": "",
     "output_type": "error",
     "traceback": [
      "\u001b[1;31mНе удается запустить Jupyter. Ошибка при попытке найти Jupyter: Для выполнения ячеек с \"Python 3.10.6 64-bit\" требуется пакет jupyter и notebook.\n",
      "\u001b[1;31mВыполните следующую команду, чтобы установить \"jupyter и notebook\" в среде Python. \n",
      "\u001b[1;31mКоманда: \"python -m pip install jupyter notebook -U\n",
      "\u001b[1;31mor\n",
      "\u001b[1;31mconda install jupyter notebook -U\"\n",
      "\u001b[1;31mНажмите <a href=\"https://aka.ms/installJupyterForVSCode\">здесь</a> для получения дополнительных сведений."
     ]
    }
   ],
   "source": [
    "from game import score_game, algor_predict"
   ]
  },
  {
   "cell_type": "markdown",
   "metadata": {},
   "source": [
    "## Угадываем число, предлагая середину диапазона"
   ]
  },
  {
   "cell_type": "code",
   "execution_count": null,
   "metadata": {},
   "outputs": [
    {
     "ename": "",
     "evalue": "",
     "output_type": "error",
     "traceback": [
      "\u001b[1;31mНе удается запустить Jupyter. Ошибка при попытке найти Jupyter: Для выполнения ячеек с \"Python 3.10.6 64-bit\" требуется пакет jupyter и notebook.\n",
      "\u001b[1;31mВыполните следующую команду, чтобы установить \"jupyter и notebook\" в среде Python. \n",
      "\u001b[1;31mКоманда: \"python -m pip install jupyter notebook -U\n",
      "\u001b[1;31mor\n",
      "\u001b[1;31mconda install jupyter notebook -U\"\n",
      "\u001b[1;31mНажмите <a href=\"https://aka.ms/installJupyterForVSCode\">здесь</a> для получения дополнительных сведений."
     ]
    }
   ],
   "source": [
    "score_game(algor_predict)"
   ]
  }
 ],
 "metadata": {
  "kernelspec": {
   "display_name": "Python 3.10.6 64-bit",
   "language": "python",
   "name": "python3"
  },
  "language_info": {
   "name": "python",
   "version": "3.10.6"
  },
  "orig_nbformat": 4,
  "vscode": {
   "interpreter": {
    "hash": "916dbcbb3f70747c44a77c7bcd40155683ae19c65e1c03b4aa3499c5328201f1"
   }
  }
 },
 "nbformat": 4,
 "nbformat_minor": 2
}
